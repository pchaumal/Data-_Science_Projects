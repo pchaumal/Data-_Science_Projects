{
 "cells": [
  {
   "cell_type": "code",
   "execution_count": 1,
   "id": "dd1f9dce",
   "metadata": {},
   "outputs": [
    {
     "name": "stdout",
     "output_type": "stream",
     "text": [
      "Welcome to the Dice Rolling Simulator!\n",
      "Press enter to roll the dice...4\n",
      "You rolled a 5\n",
      "Do you want to roll again? (y/n)y\n",
      "Press enter to roll the dice...2\n",
      "You rolled a 4\n",
      "Do you want to roll again? (y/n)d\n",
      "Thanks for playing!\n"
     ]
    }
   ],
   "source": [
    "import random\n",
    "\n",
    "def roll_dice():\n",
    "    min_value = 1\n",
    "    max_value = 6\n",
    "    return random.randint(min_value, max_value)\n",
    "\n",
    "def main():\n",
    "    print(\"Welcome to the Dice Rolling Simulator!\")\n",
    "    while True:\n",
    "        input(\"Press enter to roll the dice...\")\n",
    "        dice_value = roll_dice()\n",
    "        print(\"You rolled a\", dice_value)\n",
    "        play_again = input(\"Do you want to roll again? (y/n)\").lower()\n",
    "        if play_again != \"y\":\n",
    "            print(\"Thanks for playing!\")\n",
    "            break\n",
    "\n",
    "if __name__ == '__main__':\n",
    "    main()\n"
   ]
  },
  {
   "cell_type": "code",
   "execution_count": null,
   "id": "e22e6c09",
   "metadata": {},
   "outputs": [],
   "source": []
  }
 ],
 "metadata": {
  "kernelspec": {
   "display_name": "Python 3 (ipykernel)",
   "language": "python",
   "name": "python3"
  },
  "language_info": {
   "codemirror_mode": {
    "name": "ipython",
    "version": 3
   },
   "file_extension": ".py",
   "mimetype": "text/x-python",
   "name": "python",
   "nbconvert_exporter": "python",
   "pygments_lexer": "ipython3",
   "version": "3.9.12"
  }
 },
 "nbformat": 4,
 "nbformat_minor": 5
}
