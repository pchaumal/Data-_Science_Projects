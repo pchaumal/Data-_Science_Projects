{
 "cells": [
  {
   "cell_type": "code",
   "execution_count": 3,
   "id": "6c55e318",
   "metadata": {},
   "outputs": [],
   "source": [
    "import os\n",
    "import shutil\n",
    "\n",
    "def file_organizer():\n",
    "    # specify the directory to organize\n",
    "    directory = input(\"Enter the directory to organize: \")\n",
    "    if not os.path.isdir(directory):\n",
    "        print(\"Error: Directory does not exist.\")\n",
    "        return\n",
    "\n",
    "    # create a dictionary to store the file extensions and their corresponding folders\n",
    "    extensions = {}\n",
    "    for filename in os.listdir(directory):\n",
    "        if os.path.isfile(os.path.join(directory, filename)):\n",
    "            extension = filename.split(\".\")[-1]\n",
    "            if extension not in extensions:\n",
    "                folder = input(f\"Enter the folder name for files with extension '{extension}': \")\n",
    "                extensions[extension] = folder\n",
    "                os.makedirs(os.path.join(directory, folder), exist_ok=True)\n",
    "\n",
    "            source_path = os.path.join(directory, filename)\n",
    "            dest_path = os.path.join(directory, extensions[extension], filename)\n",
    "            shutil.move(source_path, dest_path)\n",
    "\n",
    "    print(\"File organization complete!\")\n"
   ]
  },
  {
   "cell_type": "code",
   "execution_count": 4,
   "id": "8d095d12",
   "metadata": {},
   "outputs": [
    {
     "name": "stdout",
     "output_type": "stream",
     "text": [
      "Enter the directory to organize: th\n",
      "Error: Directory does not exist.\n"
     ]
    }
   ],
   "source": [
    "file_organizer()"
   ]
  },
  {
   "cell_type": "code",
   "execution_count": null,
   "id": "fea960c2",
   "metadata": {},
   "outputs": [],
   "source": []
  }
 ],
 "metadata": {
  "kernelspec": {
   "display_name": "Python 3 (ipykernel)",
   "language": "python",
   "name": "python3"
  },
  "language_info": {
   "codemirror_mode": {
    "name": "ipython",
    "version": 3
   },
   "file_extension": ".py",
   "mimetype": "text/x-python",
   "name": "python",
   "nbconvert_exporter": "python",
   "pygments_lexer": "ipython3",
   "version": "3.9.12"
  }
 },
 "nbformat": 4,
 "nbformat_minor": 5
}
