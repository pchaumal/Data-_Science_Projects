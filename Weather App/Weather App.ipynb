{
 "cells": [
  {
   "cell_type": "code",
   "execution_count": 10,
   "id": "21cec026",
   "metadata": {},
   "outputs": [
    {
     "name": "stdout",
     "output_type": "stream",
     "text": [
      "200\n"
     ]
    }
   ],
   "source": [
    "import requests\n",
    "response = requests.get(\"https://www.google.com\")\n",
    "print(response.status_code)\n"
   ]
  },
  {
   "cell_type": "code",
   "execution_count": 12,
   "id": "ea1cdf66",
   "metadata": {},
   "outputs": [
    {
     "name": "stdout",
     "output_type": "stream",
     "text": [
      "Enter the name of a city: New york\n",
      "Error (401): Could not retrieve weather data for New york.\n",
      "No weather data available.\n"
     ]
    }
   ],
   "source": [
    "import requests\n",
    "\n",
    "def get_weather_data(api_key, city):\n",
    "    api_url = f\"http://api.openweathermap.org/data/2.5/weather?q={city}&appid={api_key}&units=metric\"\n",
    "    response = requests.get(api_url)\n",
    "    if response.status_code == 200:\n",
    "        weather_data = response.json()\n",
    "        return weather_data\n",
    "    else:\n",
    "        print(f\"Error ({response.status_code}): Could not retrieve weather data for {city}.\")\n",
    "\n",
    "def print_weather_data(weather_data):\n",
    "    if weather_data is not None:\n",
    "        city = weather_data[\"name\"]\n",
    "        country = weather_data[\"sys\"][\"country\"]\n",
    "        temp = weather_data[\"main\"][\"temp\"]\n",
    "        feels_like = weather_data[\"main\"][\"feels_like\"]\n",
    "        humidity = weather_data[\"main\"][\"humidity\"]\n",
    "        description = weather_data[\"weather\"][0][\"description\"]\n",
    "        print(f\"Current weather conditions in {city}, {country}:\")\n",
    "        print(f\"Temperature: {temp:.1f}°C\")\n",
    "        print(f\"Feels like: {feels_like:.1f}°C\")\n",
    "        print(f\"Humidity: {humidity}%\")\n",
    "        print(f\"Description: {description.capitalize()}\")\n",
    "    else:\n",
    "        print(\"No weather data available.\")\n",
    "\n",
    "def main():\n",
    "    api_key = \"your_api_key_here\"\n",
    "    city = input(\"Enter the name of a city: \")\n",
    "    weather_data = get_weather_data(api_key, city)\n",
    "    print_weather_data(weather_data)\n",
    "\n",
    "if __name__ == \"__main__\":\n",
    "    main()\n"
   ]
  },
  {
   "cell_type": "code",
   "execution_count": null,
   "id": "3c35360d",
   "metadata": {},
   "outputs": [],
   "source": []
  }
 ],
 "metadata": {
  "kernelspec": {
   "display_name": "Python 3 (ipykernel)",
   "language": "python",
   "name": "python3"
  },
  "language_info": {
   "codemirror_mode": {
    "name": "ipython",
    "version": 3
   },
   "file_extension": ".py",
   "mimetype": "text/x-python",
   "name": "python",
   "nbconvert_exporter": "python",
   "pygments_lexer": "ipython3",
   "version": "3.9.12"
  }
 },
 "nbformat": 4,
 "nbformat_minor": 5
}
