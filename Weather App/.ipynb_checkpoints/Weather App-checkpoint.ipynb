{
 "cells": [
  {
   "cell_type": "code",
   "execution_count": 3,
   "id": "dca6eeb4",
   "metadata": {},
   "outputs": [
    {
     "name": "stdout",
     "output_type": "stream",
     "text": [
      "Welcome to the Weather App!\n",
      "Enter a city name: Delhi\n",
      "Error: Unauthorized\n",
      "No weather data available.\n"
     ]
    }
   ],
   "source": [
    "import requests\n",
    "\n",
    "def get_weather_data(api_key, city):\n",
    "    api_url = f\"http://api.openweathermap.org/data/2.5/weather?q={city}&appid={api_key}&units=metric\"\n",
    "    response = requests.get(api_url)\n",
    "    if response.status_code == 200:\n",
    "        weather_data = response.json()\n",
    "        return weather_data\n",
    "    else:\n",
    "        print(\"Error:\", response.reason)\n",
    "\n",
    "def display_weather_data(weather_data):\n",
    "    if weather_data is None:\n",
    "        print(\"No weather data available.\")\n",
    "    else:\n",
    "        city = weather_data[\"name\"]\n",
    "        weather_description = weather_data[\"weather\"][0][\"description\"]\n",
    "        temperature = weather_data[\"main\"][\"temp\"]\n",
    "        feels_like = weather_data[\"main\"][\"feels_like\"]\n",
    "        humidity = weather_data[\"main\"][\"humidity\"]\n",
    "        wind_speed = weather_data[\"wind\"][\"speed\"]\n",
    "        print(f\"\\nCurrent weather conditions in {city}:\")\n",
    "        print(f\"  Weather: {weather_description}\")\n",
    "        print(f\"  Temperature: {temperature:.1f} °C\")\n",
    "        print(f\"  Feels like: {feels_like:.1f} °C\")\n",
    "        print(f\"  Humidity: {humidity}%\")\n",
    "        print(f\"  Wind speed: {wind_speed} m/s\")\n",
    "\n",
    "def main():\n",
    "    print(\"Welcome to the Weather App!\")\n",
    "    api_key = \"<your-api-key-here>\"\n",
    "    city = input(\"Enter a city name: \")\n",
    "    weather_data = get_weather_data(api_key, city)\n",
    "    display_weather_data(weather_data)\n",
    "\n",
    "if __name__ == '__main__':\n",
    "    main()\n"
   ]
  },
  {
   "cell_type": "code",
   "execution_count": null,
   "id": "366cf58e",
   "metadata": {},
   "outputs": [],
   "source": []
  }
 ],
 "metadata": {
  "kernelspec": {
   "display_name": "Python 3 (ipykernel)",
   "language": "python",
   "name": "python3"
  },
  "language_info": {
   "codemirror_mode": {
    "name": "ipython",
    "version": 3
   },
   "file_extension": ".py",
   "mimetype": "text/x-python",
   "name": "python",
   "nbconvert_exporter": "python",
   "pygments_lexer": "ipython3",
   "version": "3.9.12"
  }
 },
 "nbformat": 4,
 "nbformat_minor": 5
}
