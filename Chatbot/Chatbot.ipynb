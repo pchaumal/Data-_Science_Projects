{
 "cells": [
  {
   "cell_type": "code",
   "execution_count": 2,
   "id": "1fa91670",
   "metadata": {},
   "outputs": [],
   "source": [
    "import random\n",
    "\n",
    "def chatbot():\n",
    "    print(\"Hi, I'm a chatbot. What's your name?\")\n",
    "    name = input()\n",
    "    print(f\"Nice to meet you, {name}! How can I help you today?\")\n",
    "\n",
    "    while True:\n",
    "        question = input().lower()\n",
    "        greetings = [\"hi\", \"hello\", \"hey\"]\n",
    "        goodbyes = [\"bye\", \"goodbye\", \"see you later\"]\n",
    "        thanks = [\"thanks\", \"thank you\"]\n",
    "        jokes = [\"Why did the tomato turn red? Because it saw the salad dressing!\", \n",
    "                 \"Why don't scientists trust atoms? Because they make up everything!\", \n",
    "                 \"Why did the chicken cross the playground? To get to the other slide!\"]\n",
    "        \n",
    "        if any(greeting in question for greeting in greetings):\n",
    "            print(random.choice(greetings))\n",
    "        elif any(goodbye in question for goodbye in goodbyes):\n",
    "            print(random.choice(goodbyes))\n",
    "            break\n",
    "        elif any(thank in question for thank in thanks):\n",
    "            print(\"You're welcome!\")\n",
    "        elif \"joke\" in question:\n",
    "            print(random.choice(jokes))\n",
    "        else:\n",
    "            print(\"I'm sorry, I don't understand. Can you please rephrase your question?\")\n"
   ]
  },
  {
   "cell_type": "code",
   "execution_count": 3,
   "id": "00d2e1ec",
   "metadata": {},
   "outputs": [
    {
     "name": "stdout",
     "output_type": "stream",
     "text": [
      "Hi, I'm a chatbot. What's your name?\n",
      "My name is Priyanka\n",
      "Nice to meet you, My name is Priyanka! How can I help you today?\n",
      "no help needed\n",
      "I'm sorry, I don't understand. Can you please rephrase your question?\n",
      "How to use Whats app?\n",
      "I'm sorry, I don't understand. Can you please rephrase your question?\n",
      "joke\n",
      "Why did the chicken cross the playground? To get to the other slide!\n",
      "thank you\n",
      "You're welcome!\n",
      "bye\n",
      "bye\n"
     ]
    }
   ],
   "source": [
    "chatbot()"
   ]
  }
 ],
 "metadata": {
  "kernelspec": {
   "display_name": "Python 3 (ipykernel)",
   "language": "python",
   "name": "python3"
  },
  "language_info": {
   "codemirror_mode": {
    "name": "ipython",
    "version": 3
   },
   "file_extension": ".py",
   "mimetype": "text/x-python",
   "name": "python",
   "nbconvert_exporter": "python",
   "pygments_lexer": "ipython3",
   "version": "3.9.12"
  }
 },
 "nbformat": 4,
 "nbformat_minor": 5
}
