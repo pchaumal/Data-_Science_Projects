{
 "cells": [
  {
   "cell_type": "code",
   "execution_count": 1,
   "id": "27a4e727",
   "metadata": {},
   "outputs": [
    {
     "name": "stdout",
     "output_type": "stream",
     "text": [
      "Welcome to Hangman!\n",
      "_ _ _ _ _ _ _ _ _ _ \n",
      "Guess a letter: javascript\n",
      "j a v a s c r i p t \n",
      "You win!\n"
     ]
    }
   ],
   "source": [
    "import random\n",
    "\n",
    "def hangman():\n",
    "    words = [\"python\", \"java\", \"javascript\", \"ruby\", \"php\", \"html\", \"css\", \"sql\", \"swift\", \"kotlin\"]\n",
    "    word = random.choice(words)\n",
    "    guesses = ''\n",
    "    turns = 6\n",
    "    \n",
    "    print(\"Welcome to Hangman!\")\n",
    "    \n",
    "    while turns > 0:\n",
    "        failed = 0\n",
    "        \n",
    "        for char in word:\n",
    "            if char in guesses:\n",
    "                print(char, end=\" \")\n",
    "            else:\n",
    "                print(\"_\", end=\" \")\n",
    "                failed += 1\n",
    "        \n",
    "        if failed == 0:\n",
    "            print(\"\\nYou win!\")\n",
    "            break\n",
    "        \n",
    "        guess = input(\"\\nGuess a letter: \")\n",
    "        guesses += guess\n",
    "        \n",
    "        if guess not in word:\n",
    "            turns -= 1\n",
    "            print(f\"\\nSorry, {guess} is not in the word. You have {turns} turns left.\")\n",
    "            \n",
    "            if turns == 0:\n",
    "                print(\"Game over. The word was\", word)\n",
    "\n",
    "hangman()\n"
   ]
  },
  {
   "cell_type": "code",
   "execution_count": null,
   "id": "5f6ec7cd",
   "metadata": {},
   "outputs": [],
   "source": []
  }
 ],
 "metadata": {
  "kernelspec": {
   "display_name": "Python 3 (ipykernel)",
   "language": "python",
   "name": "python3"
  },
  "language_info": {
   "codemirror_mode": {
    "name": "ipython",
    "version": 3
   },
   "file_extension": ".py",
   "mimetype": "text/x-python",
   "name": "python",
   "nbconvert_exporter": "python",
   "pygments_lexer": "ipython3",
   "version": "3.9.12"
  }
 },
 "nbformat": 4,
 "nbformat_minor": 5
}
