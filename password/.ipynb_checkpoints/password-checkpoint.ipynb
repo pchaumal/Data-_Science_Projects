{
 "cells": [
  {
   "cell_type": "code",
   "execution_count": 1,
   "id": "e20dc2a4",
   "metadata": {},
   "outputs": [],
   "source": [
    "import random\n",
    "import string\n",
    "\n",
    "def generate_password(length, include_uppercase=True, include_lowercase=True, include_numbers=True, include_symbols=True):\n",
    "    \"\"\"Generates a random password of the specified length and character types.\"\"\"\n",
    "    characters = ''\n",
    "    if include_uppercase:\n",
    "        characters += string.ascii_uppercase\n",
    "    if include_lowercase:\n",
    "        characters += string.ascii_lowercase\n",
    "    if include_numbers:\n",
    "        characters += string.digits\n",
    "    if include_symbols:\n",
    "        characters += string.punctuation\n",
    "    \n",
    "    if len(characters) == 0:\n",
    "        raise ValueError(\"At least one character type must be included.\")\n",
    "    \n",
    "    password = ''.join(random.choice(characters) for i in range(length))\n",
    "    return password\n"
   ]
  },
  {
   "cell_type": "code",
   "execution_count": 4,
   "id": "aeecd947",
   "metadata": {},
   "outputs": [
    {
     "name": "stdout",
     "output_type": "stream",
     "text": [
      "|u[[XoO7d3n7\n"
     ]
    }
   ],
   "source": [
    "password = generate_password(length=12, include_uppercase=True, include_lowercase=True, include_numbers=True, include_symbols=True)\n",
    "print(password)\n"
   ]
  },
  {
   "cell_type": "code",
   "execution_count": null,
   "id": "b0f82f9f",
   "metadata": {},
   "outputs": [],
   "source": []
  },
  {
   "cell_type": "code",
   "execution_count": 6,
   "id": "e75a24e3",
   "metadata": {},
   "outputs": [
    {
     "ename": "ModuleNotFoundError",
     "evalue": "No module named 'pyperclip'",
     "output_type": "error",
     "traceback": [
      "\u001b[1;31m---------------------------------------------------------------------------\u001b[0m",
      "\u001b[1;31mModuleNotFoundError\u001b[0m                       Traceback (most recent call last)",
      "Input \u001b[1;32mIn [6]\u001b[0m, in \u001b[0;36m<cell line: 3>\u001b[1;34m()\u001b[0m\n\u001b[0;32m      1\u001b[0m \u001b[38;5;28;01mimport\u001b[39;00m \u001b[38;5;21;01mrandom\u001b[39;00m\n\u001b[0;32m      2\u001b[0m \u001b[38;5;28;01mimport\u001b[39;00m \u001b[38;5;21;01mstring\u001b[39;00m\n\u001b[1;32m----> 3\u001b[0m \u001b[38;5;28;01mimport\u001b[39;00m \u001b[38;5;21;01mpyperclip\u001b[39;00m\n\u001b[0;32m      5\u001b[0m \u001b[38;5;28;01mdef\u001b[39;00m \u001b[38;5;21mgenerate_password\u001b[39m(length, include_uppercase\u001b[38;5;241m=\u001b[39m\u001b[38;5;28;01mTrue\u001b[39;00m, include_lowercase\u001b[38;5;241m=\u001b[39m\u001b[38;5;28;01mTrue\u001b[39;00m, include_numbers\u001b[38;5;241m=\u001b[39m\u001b[38;5;28;01mTrue\u001b[39;00m, include_symbols\u001b[38;5;241m=\u001b[39m\u001b[38;5;28;01mTrue\u001b[39;00m):\n\u001b[0;32m      6\u001b[0m     \u001b[38;5;124;03m\"\"\"Generates a random password of the specified length and character types.\"\"\"\u001b[39;00m\n",
      "\u001b[1;31mModuleNotFoundError\u001b[0m: No module named 'pyperclip'"
     ]
    }
   ],
   "source": [
    "import random\n",
    "import string\n",
    "import pyperclip\n",
    "\n",
    "def generate_password(length, include_uppercase=True, include_lowercase=True, include_numbers=True, include_symbols=True):\n",
    "    \"\"\"Generates a random password of the specified length and character types.\"\"\"\n",
    "    characters = ''\n",
    "    if include_uppercase:\n",
    "        characters += string.ascii_uppercase\n",
    "    if include_lowercase:\n",
    "        characters += string.ascii_lowercase\n",
    "    if include_numbers:\n",
    "        characters += string.digits\n",
    "    if include_symbols:\n",
    "        characters += string.punctuation\n",
    "    \n",
    "    if len(characters) == 0:\n",
    "        raise ValueError(\"At least one character type must be included.\")\n",
    "    \n",
    "    password = ''.join(random.choice(characters) for i in range(length))\n",
    "    return password\n",
    "\n",
    "def main():\n",
    "    print(\"Welcome to the Password Generator!\")\n",
    "    length = int(input(\"How many characters should your password contain? \"))\n",
    "    include_uppercase = input(\"Should your password include uppercase letters? (y/n) \").lower() == 'y'\n",
    "    include_lowercase = input(\"Should your password include lowercase letters? (y/n) \").lower() == 'y'\n",
    "    include_numbers = input(\"Should your password include numbers? (y/n) \").lower() == 'y'\n",
    "    include_symbols = input(\"Should your password include symbols? (y/n) \").lower() == 'y'\n",
    "\n",
    "    password = generate_password(length, include_uppercase, include_lowercase, include_numbers, include_symbols)\n",
    "    print(\"Your password is: \")\n",
    "    print(\"******************************\")\n",
    "    print(password)\n",
    "    print(\"******************************\")\n",
    "    pyperclip.copy(password) # Copies the generated password to the clipboard\n",
    "\n",
    "if __name__ == '__main__':\n",
    "    main()\n"
   ]
  },
  {
   "cell_type": "code",
   "execution_count": null,
   "id": "f51ccf18",
   "metadata": {},
   "outputs": [],
   "source": []
  }
 ],
 "metadata": {
  "kernelspec": {
   "display_name": "Python 3 (ipykernel)",
   "language": "python",
   "name": "python3"
  },
  "language_info": {
   "codemirror_mode": {
    "name": "ipython",
    "version": 3
   },
   "file_extension": ".py",
   "mimetype": "text/x-python",
   "name": "python",
   "nbconvert_exporter": "python",
   "pygments_lexer": "ipython3",
   "version": "3.9.12"
  }
 },
 "nbformat": 4,
 "nbformat_minor": 5
}
