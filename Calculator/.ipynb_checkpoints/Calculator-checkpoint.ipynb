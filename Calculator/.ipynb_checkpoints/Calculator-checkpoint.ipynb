{
 "cells": [
  {
   "cell_type": "code",
   "execution_count": 1,
   "id": "d6ddef79",
   "metadata": {},
   "outputs": [],
   "source": [
    "# Print a welcome message\n",
    "print(\"Welcome to the calculator!\")\n",
    "\n",
    "# Ask the user to input two numbers and convert them to float\n",
    "num1 = float(input(\"Enter the first number: \"))\n",
    "num2 = float(input(\"Enter the second number: \"))\n",
    "\n",
    "# Print a message to ask the user to choose an operation\n",
    "print(\"What operation would you like to perform?\")\n",
    "print(\"1. Addition (+)\")\n",
    "print(\"2. Subtraction (-)\")\n",
    "print(\"3. Multiplication (*)\")\n",
    "print(\"4. Division (/)\")\n",
    "\n",
    "# Ask the user to input the choice of operation and convert it to integer\n",
    "choice = int(input())\n",
    "\n",
    "# Perform the chosen operation and store the result in a variable called \"result\"\n",
    "# Also, store the operator used in the calculation in a variable called \"operator\"\n",
    "if choice == 1:\n",
    "    result = num1 + num2\n",
    "    operator = \"+\"\n",
    "elif choice == 2:\n",
    "    result = num1 - num2\n",
    "    operator = \"-\"\n",
    "elif choice == 3:\n",
    "    result = num1 * num2\n",
    "    operator = \"*\"\n",
    "elif choice == 4:\n",
    "    result = num1 / num2\n",
    "    operator = \"/\"\n",
    "else:\n",
    "    # If the user inputs an invalid choice, print a message and return from the function\n",
    "    print(\"Invalid choice. Please try again.\")\n",
    "    return\n",
    "\n",
    "# Print the final result of the calculation in the format of \"{num1} {operator} {num2} = {result}\"\n",
    "print(f\"{num1} {operator} {num2} = {result}\")\n"
   ]
  },
  {
   "cell_type": "code",
   "execution_count": 2,
   "id": "4ea8a2a6",
   "metadata": {},
   "outputs": [
    {
     "name": "stdout",
     "output_type": "stream",
     "text": [
      "Welcome to the calculator!\n",
      "Enter the first number: 1\n",
      "Enter the second number: 1\n",
      "What operation would you like to perform?\n",
      "1. Addition (+)\n",
      "2. Subtraction (-)\n",
      "3. Multiplication (*)\n",
      "4. Division (/)\n",
      "1\n",
      "1.0 + 1.0 = 2.0\n"
     ]
    }
   ],
   "source": [
    "calculator()"
   ]
  },
  {
   "cell_type": "code",
   "execution_count": 1,
   "id": "d3c00250",
   "metadata": {},
   "outputs": [],
   "source": [
    "def calculator():\n",
    "    print(\"Welcome to the creative calculator!\")\n",
    "    num1 = float(input(\"Enter the first number: \"))\n",
    "    num2 = float(input(\"Enter the second number: \"))\n",
    "\n",
    "    print(\"What operation would you like to perform?\")\n",
    "    print(\"1. Addition (+)\")\n",
    "    print(\"2. Subtraction (-)\")\n",
    "    print(\"3. Multiplication (*)\")\n",
    "    print(\"4. Division (/)\")\n",
    "    print(\"5. Exponentiation (^)\")\n",
    "    print(\"6. Modulo (%)\")\n",
    "    print(\"7. Square Root (√)\")\n",
    "    print(\"8. Logarithm (log)\")\n",
    "\n",
    "    choice = int(input())\n",
    "\n",
    "    if choice == 1:\n",
    "        result = num1 + num2\n",
    "        operator = \"+\"\n",
    "    elif choice == 2:\n",
    "        result = num1 - num2\n",
    "        operator = \"-\"\n",
    "    elif choice == 3:\n",
    "        result = num1 * num2\n",
    "        operator = \"*\"\n",
    "    elif choice == 4:\n",
    "        result = num1 / num2\n",
    "        operator = \"/\"\n",
    "    elif choice == 5:\n",
    "        result = num1 ** num2\n",
    "        operator = \"^\"\n",
    "    elif choice == 6:\n",
    "        result = num1 % num2\n",
    "        operator = \"%\"\n",
    "    elif choice == 7:\n",
    "        result = num1 ** 0.5\n",
    "        operator = \"√\"\n",
    "    elif choice == 8:\n",
    "        result = math.log(num1, num2)\n",
    "        operator = \"log\"\n",
    "    else:\n",
    "        print(\"Invalid choice. Please try again.\")\n",
    "        return\n",
    "\n",
    "    print(f\"{num1} {operator} {num2} = {result}\")\n"
   ]
  },
  {
   "cell_type": "code",
   "execution_count": 2,
   "id": "075ff2e6",
   "metadata": {},
   "outputs": [
    {
     "name": "stdout",
     "output_type": "stream",
     "text": [
      "Welcome to the creative calculator!\n",
      "Enter the first number: 34\n",
      "Enter the second number: 22\n",
      "What operation would you like to perform?\n",
      "1. Addition (+)\n",
      "2. Subtraction (-)\n",
      "3. Multiplication (*)\n",
      "4. Division (/)\n",
      "5. Exponentiation (^)\n",
      "6. Modulo (%)\n",
      "7. Square Root (√)\n",
      "8. Logarithm (log)\n",
      "6\n",
      "34.0 % 22.0 = 12.0\n"
     ]
    }
   ],
   "source": [
    "calculator()"
   ]
  },
  {
   "cell_type": "code",
   "execution_count": null,
   "id": "093c9bbe",
   "metadata": {},
   "outputs": [],
   "source": []
  },
  {
   "cell_type": "code",
   "execution_count": 16,
   "id": "5b904067",
   "metadata": {},
   "outputs": [],
   "source": [
    "import math\n",
    "\n",
    "def calculator():\n",
    "    print(\"Welcome to the creative calculator!\")\n",
    "    num1, num2 = map(float, input(\"Enter two numbers separated by a space: \").split())\n",
    "\n",
    "    print(\"What operation would you like to perform?\")\n",
    "    operations = {1: (\"+\", \"Addition\"), 2: (\"-\", \"Subtraction\"), 3: (\"*\", \"Multiplication\"), 4: (\"/\", \"Division\"), 5: (\"^\", \"Exponentiation\"), 6: (\"%\", \"Modulo\"), 7: (\"√\", \"Square Root\"), 8: (\"log\", \"Logarithm\")}\n",
    "    choice = int(input('\\n'.join([f\"{num}. {name} ({symbol})\" for num, (symbol, name) in operations.items()]) + '\\n'))\n",
    "\n",
    "    if choice in range(1, 9):\n",
    "        operator, name = operations[choice]\n",
    "        if choice == 7:\n",
    "            result = math.sqrt(num1)\n",
    "        elif choice == 8:\n",
    "            result = math.log(num1, num2)\n",
    "        else:\n",
    "            result = eval(f\"{num1}{operator}{num2}\")\n",
    "        print(f\"{num1} {name} {num2} = {result}\")\n",
    "    else:\n",
    "        print(\"Invalid choice. Please try again.\")\n"
   ]
  },
  {
   "cell_type": "code",
   "execution_count": 17,
   "id": "871eed78",
   "metadata": {},
   "outputs": [
    {
     "name": "stdout",
     "output_type": "stream",
     "text": [
      "Welcome to the creative calculator!\n",
      "Enter two numbers separated by a space: 1 2\n",
      "What operation would you like to perform?\n",
      "1. Addition (+)\n",
      "2. Subtraction (-)\n",
      "3. Multiplication (*)\n",
      "4. Division (/)\n",
      "5. Exponentiation (^)\n",
      "6. Modulo (%)\n",
      "7. Square Root (√)\n",
      "8. Logarithm (log)\n",
      "1\n",
      "1.0 Addition 2.0 = 3.0\n"
     ]
    }
   ],
   "source": [
    "calculator()\n"
   ]
  },
  {
   "cell_type": "markdown",
   "id": "d5364dc8",
   "metadata": {},
   "source": [
    "## "
   ]
  }
 ],
 "metadata": {
  "kernelspec": {
   "display_name": "Python 3 (ipykernel)",
   "language": "python",
   "name": "python3"
  },
  "language_info": {
   "codemirror_mode": {
    "name": "ipython",
    "version": 3
   },
   "file_extension": ".py",
   "mimetype": "text/x-python",
   "name": "python",
   "nbconvert_exporter": "python",
   "pygments_lexer": "ipython3",
   "version": "3.9.12"
  }
 },
 "nbformat": 4,
 "nbformat_minor": 5
}
